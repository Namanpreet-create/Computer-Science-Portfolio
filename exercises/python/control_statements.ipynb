{
  "cells": [
    {
      "cell_type": "markdown",
      "id": "broad-significance",
      "metadata": {
        "id": "broad-significance"
      },
      "source": [
        "# Control Statements"
      ]
    },
    {
      "cell_type": "markdown",
      "id": "mighty-picnic",
      "metadata": {
        "id": "mighty-picnic"
      },
      "source": [
        "## Check 2 Numbers are Dividable\n",
        "Write a Python prgoram that takes 2 numbers and prints whether the first one is dividable by the second one or not. For example, if the user inputs 10 and 5, the program should print `\"10 is dividable by 5\"`."
      ]
    },
    {
      "cell_type": "code",
      "execution_count": 5,
      "id": "everyday-league",
      "metadata": {
        "colab": {
          "base_uri": "https://localhost:8080/"
        },
        "id": "everyday-league",
        "outputId": "8a471a4a-3a61-40d8-fa0d-50250506fcf5"
      },
      "outputs": [
        {
          "output_type": "stream",
          "name": "stdout",
          "text": [
            "12337896 is dividable by 3\n"
          ]
        }
      ],
      "source": [
        "bool(10%3)\n",
        "a = 12337896\n",
        "b = 3\n",
        "if (a%b) == 0:\n",
        "  print(f\"{a} is dividable by {b}\")\n",
        "else:\n",
        "    print(f\"{a} is not dividable by {b}\")\n"
      ]
    },
    {
      "cell_type": "markdown",
      "id": "certified-smell",
      "metadata": {
        "id": "certified-smell"
      },
      "source": [
        "## Check a Website Address Has .com\n",
        "Write a Python program that takes a website address and prints out whether it ends with `.com` or not. For example, given the string `\"www.google.com\"`, the program should print `\"www.google.com ends with .com\"`."
      ]
    },
    {
      "cell_type": "code",
      "execution_count": 8,
      "id": "framed-index",
      "metadata": {
        "colab": {
          "base_uri": "https://localhost:8080/",
          "height": 53
        },
        "id": "framed-index",
        "outputId": "af1c64d1-9424-4819-a778-3eb7c9917d4c"
      },
      "outputs": [
        {
          "output_type": "stream",
          "name": "stdout",
          "text": [
            "(website) ends with .com\n"
          ]
        },
        {
          "output_type": "execute_result",
          "data": {
            "text/plain": [
              "'aaa bb cc d e f '"
            ],
            "application/vnd.google.colaboratory.intrinsic+json": {
              "type": "string"
            }
          },
          "metadata": {},
          "execution_count": 8
        }
      ],
      "source": [
        "website = \"www.gisma.com\"\n",
        "website[-4:] == \".com\"\n",
        "if website[-4:] == \".com\":\n",
        "  print(f\"(website) ends with .com\")\n",
        "\n",
        "#pythoniic way\n",
        "\"aaa bb cc d e f \""
      ]
    },
    {
      "cell_type": "markdown",
      "id": "lonely-hollow",
      "metadata": {
        "id": "lonely-hollow"
      },
      "source": [
        "## Remove Non-String List Elements\n",
        "Write a Python program that takes a list and create another list that only contains string elements of the first list. For example, given the list `[1, \"hello\", 4.3, True, \"bye\"]`, the program should define a list `[\"hello\", \"bye\"]`."
      ]
    },
    {
      "cell_type": "code",
      "source": [
        "a = [1, \"hello\", 4.3, True, \"bye\"]\n",
        "b =[]\n",
        "for i in a:\n",
        "  if type(i) == str:\n",
        "    b.append(i)\n",
        "    #print(i,type(i))\n",
        "print(b)\n",
        "\n",
        "#pythonic\n",
        "b = [i for i in a if type(i) == str]\n",
        "print(b)"
      ],
      "metadata": {
        "colab": {
          "base_uri": "https://localhost:8080/"
        },
        "id": "kPMF4_abxoXE",
        "outputId": "b89d93ae-9591-48aa-e86e-dba93d10fc53"
      },
      "id": "kPMF4_abxoXE",
      "execution_count": 19,
      "outputs": [
        {
          "output_type": "stream",
          "name": "stdout",
          "text": [
            "['hello', 'bye']\n",
            "['hello', 'bye']\n"
          ]
        }
      ]
    },
    {
      "cell_type": "code",
      "source": [],
      "metadata": {
        "id": "WFCrpq81xnjz"
      },
      "id": "WFCrpq81xnjz",
      "execution_count": null,
      "outputs": []
    },
    {
      "cell_type": "code",
      "execution_count": null,
      "id": "compound-commissioner",
      "metadata": {
        "id": "compound-commissioner"
      },
      "outputs": [],
      "source": []
    },
    {
      "cell_type": "markdown",
      "id": "conceptual-lobby",
      "metadata": {
        "id": "conceptual-lobby"
      },
      "source": [
        "## Compare Numbers\n",
        "Write a Python program that takes an integer, compares it to a predefined number, and tells the user to guess a larger or smaller number. For example, suppose the predefined number is 10 and the user inputs 7. The program should print `\"7 is too small!\"`."
      ]
    },
    {
      "cell_type": "code",
      "execution_count": null,
      "id": "religious-leonard",
      "metadata": {
        "id": "religious-leonard"
      },
      "outputs": [],
      "source": [
        "a = (2342234222453 // 2323)%100\n",
        "\n",
        "guess = input(input(\"input:\"))\n",
        "\n",
        "while(a != guess):\n",
        "  if a> guess:\n",
        "    print(f\"(guess) is too small\")\n",
        "  else:\n",
        "    print(f\"(guess) is too big\")\n",
        "    guess = input(input(\"input:\"))\n",
        "\n",
        "print(\"correct\")"
      ]
    },
    {
      "cell_type": "markdown",
      "id": "gorgeous-knitting",
      "metadata": {
        "id": "gorgeous-knitting"
      },
      "source": [
        "## Sum Even Numbers\n",
        "Write a Python program that computes the sum of even numbers in a given list of integers."
      ]
    },
    {
      "cell_type": "code",
      "execution_count": null,
      "id": "artificial-professor",
      "metadata": {
        "id": "artificial-professor"
      },
      "outputs": [],
      "source": [
        "[123,45,6,8,3,67,9,3,3245,9,9,4]\n",
        "s = 0\n",
        " for i in a:\n",
        "  if i%2 == 0;\n",
        "    s += i\n",
        " print(s)\n",
        "\n",
        " # pythonic list comperhension\n",
        " evens = [i for i in a if i%2 == 0]\n",
        " print(sum(evens))"
      ]
    },
    {
      "cell_type": "markdown",
      "id": "e3044c58",
      "metadata": {
        "id": "e3044c58"
      },
      "source": [
        "## Find All Divisors\n",
        "Write a Python prgoram that find all divisors of a given positive integer and store them in a list. For example, given 10, the resulting list should be `[1, 2, 5, 10]`."
      ]
    },
    {
      "cell_type": "code",
      "metadata": {
        "id": "c39ccc32"
      },
      "source": [
        "n=10\n",
        "devisor = []\n",
        "\n",
        "for i in range(1,n+1):\n",
        "  if 10%i == 0:\n",
        "    devisor.append(i)\n",
        "print(devisor)"
      ],
      "id": "c39ccc32",
      "execution_count": null,
      "outputs": []
    },
    {
      "cell_type": "code",
      "execution_count": null,
      "id": "9bee6850",
      "metadata": {
        "id": "9bee6850"
      },
      "outputs": [],
      "source": []
    },
    {
      "cell_type": "markdown",
      "id": "41b462e9",
      "metadata": {
        "id": "41b462e9"
      },
      "source": [
        "## Find the Largest Word\n",
        "Write a Python program that finds the largest word in a given input string. For example, given the string `\"hello how are you\"`, the program should print `\"hello\"`."
      ]
    },
    {
      "cell_type": "code",
      "execution_count": null,
      "id": "13037cad",
      "metadata": {
        "id": "13037cad"
      },
      "outputs": [],
      "source": []
    },
    {
      "cell_type": "markdown",
      "id": "3b71775e",
      "metadata": {
        "id": "3b71775e"
      },
      "source": [
        "## Count the Frequency of List Elements\n",
        "Write a Python program that counts the frequency of each element in a given list and store them in a dictionary. For example, given the list `[111, \"hello\", 222, \"hello\", 111]`, the program should define a dictionary `{111: 2, \"hello\": 2, 222: 1}`."
      ]
    },
    {
      "cell_type": "code",
      "execution_count": null,
      "id": "fdb69cdb",
      "metadata": {
        "id": "fdb69cdb"
      },
      "outputs": [],
      "source": []
    }
  ],
  "metadata": {
    "kernelspec": {
      "display_name": "Python 3",
      "language": "python",
      "name": "python3"
    },
    "language_info": {
      "codemirror_mode": {
        "name": "ipython",
        "version": 3
      },
      "file_extension": ".py",
      "mimetype": "text/x-python",
      "name": "python",
      "nbconvert_exporter": "python",
      "pygments_lexer": "ipython3",
      "version": "3.8.5"
    },
    "colab": {
      "provenance": []
    }
  },
  "nbformat": 4,
  "nbformat_minor": 5
}